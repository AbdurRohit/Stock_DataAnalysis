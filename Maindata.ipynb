{
 "cells": [
  {
   "cell_type": "code",
   "execution_count": 12,
   "metadata": {},
   "outputs": [],
   "source": [
    "import pandas as pd"
   ]
  },
  {
   "cell_type": "code",
   "execution_count": 15,
   "metadata": {},
   "outputs": [],
   "source": [
    "\n",
    "star_history=pd.read_csv(\"E:\\Stock Prediction\\Starbucks_stock_history.csv\")\n"
   ]
  },
  {
   "cell_type": "code",
   "execution_count": 8,
   "metadata": {},
   "outputs": [
    {
     "data": {
      "text/html": [
       "<div>\n",
       "<style scoped>\n",
       "    .dataframe tbody tr th:only-of-type {\n",
       "        vertical-align: middle;\n",
       "    }\n",
       "\n",
       "    .dataframe tbody tr th {\n",
       "        vertical-align: top;\n",
       "    }\n",
       "\n",
       "    .dataframe thead th {\n",
       "        text-align: right;\n",
       "    }\n",
       "</style>\n",
       "<table border=\"1\" class=\"dataframe\">\n",
       "  <thead>\n",
       "    <tr style=\"text-align: right;\">\n",
       "      <th></th>\n",
       "      <th>Date</th>\n",
       "      <th>Open</th>\n",
       "      <th>High</th>\n",
       "      <th>Low</th>\n",
       "      <th>Close</th>\n",
       "      <th>Volume</th>\n",
       "      <th>Dividends</th>\n",
       "      <th>Stock Splits</th>\n",
       "    </tr>\n",
       "  </thead>\n",
       "  <tbody>\n",
       "    <tr>\n",
       "      <th>0</th>\n",
       "      <td>1992-06-26</td>\n",
       "      <td>0.270957</td>\n",
       "      <td>0.287086</td>\n",
       "      <td>0.264507</td>\n",
       "      <td>0.277409</td>\n",
       "      <td>224358400</td>\n",
       "      <td>0.0</td>\n",
       "      <td>0.0</td>\n",
       "    </tr>\n",
       "    <tr>\n",
       "      <th>1</th>\n",
       "      <td>1992-06-29</td>\n",
       "      <td>0.280635</td>\n",
       "      <td>0.303215</td>\n",
       "      <td>0.274183</td>\n",
       "      <td>0.296763</td>\n",
       "      <td>58732800</td>\n",
       "      <td>0.0</td>\n",
       "      <td>0.0</td>\n",
       "    </tr>\n",
       "    <tr>\n",
       "      <th>2</th>\n",
       "      <td>1992-06-30</td>\n",
       "      <td>0.303215</td>\n",
       "      <td>0.306440</td>\n",
       "      <td>0.283860</td>\n",
       "      <td>0.287086</td>\n",
       "      <td>34777600</td>\n",
       "      <td>0.0</td>\n",
       "      <td>0.0</td>\n",
       "    </tr>\n",
       "    <tr>\n",
       "      <th>3</th>\n",
       "      <td>1992-07-01</td>\n",
       "      <td>0.290312</td>\n",
       "      <td>0.296763</td>\n",
       "      <td>0.280635</td>\n",
       "      <td>0.293538</td>\n",
       "      <td>18316800</td>\n",
       "      <td>0.0</td>\n",
       "      <td>0.0</td>\n",
       "    </tr>\n",
       "    <tr>\n",
       "      <th>4</th>\n",
       "      <td>1992-07-02</td>\n",
       "      <td>0.296763</td>\n",
       "      <td>0.296763</td>\n",
       "      <td>0.287086</td>\n",
       "      <td>0.293538</td>\n",
       "      <td>13996800</td>\n",
       "      <td>0.0</td>\n",
       "      <td>0.0</td>\n",
       "    </tr>\n",
       "    <tr>\n",
       "      <th>...</th>\n",
       "      <td>...</td>\n",
       "      <td>...</td>\n",
       "      <td>...</td>\n",
       "      <td>...</td>\n",
       "      <td>...</td>\n",
       "      <td>...</td>\n",
       "      <td>...</td>\n",
       "      <td>...</td>\n",
       "    </tr>\n",
       "    <tr>\n",
       "      <th>7367</th>\n",
       "      <td>2021-09-27</td>\n",
       "      <td>113.610001</td>\n",
       "      <td>114.669998</td>\n",
       "      <td>112.910004</td>\n",
       "      <td>113.680000</td>\n",
       "      <td>3988800</td>\n",
       "      <td>0.0</td>\n",
       "      <td>0.0</td>\n",
       "    </tr>\n",
       "    <tr>\n",
       "      <th>7368</th>\n",
       "      <td>2021-09-28</td>\n",
       "      <td>112.680000</td>\n",
       "      <td>113.000000</td>\n",
       "      <td>111.080002</td>\n",
       "      <td>111.709999</td>\n",
       "      <td>5917700</td>\n",
       "      <td>0.0</td>\n",
       "      <td>0.0</td>\n",
       "    </tr>\n",
       "    <tr>\n",
       "      <th>7369</th>\n",
       "      <td>2021-09-29</td>\n",
       "      <td>111.900002</td>\n",
       "      <td>112.519997</td>\n",
       "      <td>111.570000</td>\n",
       "      <td>112.169998</td>\n",
       "      <td>4389100</td>\n",
       "      <td>0.0</td>\n",
       "      <td>0.0</td>\n",
       "    </tr>\n",
       "    <tr>\n",
       "      <th>7370</th>\n",
       "      <td>2021-09-30</td>\n",
       "      <td>111.519997</td>\n",
       "      <td>112.160004</td>\n",
       "      <td>110.309998</td>\n",
       "      <td>110.309998</td>\n",
       "      <td>5974500</td>\n",
       "      <td>0.0</td>\n",
       "      <td>0.0</td>\n",
       "    </tr>\n",
       "    <tr>\n",
       "      <th>7371</th>\n",
       "      <td>2021-10-01</td>\n",
       "      <td>110.889999</td>\n",
       "      <td>113.459999</td>\n",
       "      <td>110.540001</td>\n",
       "      <td>112.919998</td>\n",
       "      <td>5244849</td>\n",
       "      <td>0.0</td>\n",
       "      <td>0.0</td>\n",
       "    </tr>\n",
       "  </tbody>\n",
       "</table>\n",
       "<p>7372 rows × 8 columns</p>\n",
       "</div>"
      ],
      "text/plain": [
       "            Date        Open        High         Low       Close     Volume   \n",
       "0     1992-06-26    0.270957    0.287086    0.264507    0.277409  224358400  \\\n",
       "1     1992-06-29    0.280635    0.303215    0.274183    0.296763   58732800   \n",
       "2     1992-06-30    0.303215    0.306440    0.283860    0.287086   34777600   \n",
       "3     1992-07-01    0.290312    0.296763    0.280635    0.293538   18316800   \n",
       "4     1992-07-02    0.296763    0.296763    0.287086    0.293538   13996800   \n",
       "...          ...         ...         ...         ...         ...        ...   \n",
       "7367  2021-09-27  113.610001  114.669998  112.910004  113.680000    3988800   \n",
       "7368  2021-09-28  112.680000  113.000000  111.080002  111.709999    5917700   \n",
       "7369  2021-09-29  111.900002  112.519997  111.570000  112.169998    4389100   \n",
       "7370  2021-09-30  111.519997  112.160004  110.309998  110.309998    5974500   \n",
       "7371  2021-10-01  110.889999  113.459999  110.540001  112.919998    5244849   \n",
       "\n",
       "      Dividends  Stock Splits  \n",
       "0           0.0           0.0  \n",
       "1           0.0           0.0  \n",
       "2           0.0           0.0  \n",
       "3           0.0           0.0  \n",
       "4           0.0           0.0  \n",
       "...         ...           ...  \n",
       "7367        0.0           0.0  \n",
       "7368        0.0           0.0  \n",
       "7369        0.0           0.0  \n",
       "7370        0.0           0.0  \n",
       "7371        0.0           0.0  \n",
       "\n",
       "[7372 rows x 8 columns]"
      ]
     },
     "execution_count": 8,
     "metadata": {},
     "output_type": "execute_result"
    }
   ],
   "source": [
    "star_history"
   ]
  },
  {
   "cell_type": "code",
   "execution_count": 8,
   "metadata": {},
   "outputs": [
    {
     "data": {
      "text/plain": [
       "Date            0\n",
       "Open            0\n",
       "High            0\n",
       "Low             0\n",
       "Close           0\n",
       "Volume          0\n",
       "Dividends       0\n",
       "Stock Splits    0\n",
       "dtype: int64"
      ]
     },
     "execution_count": 8,
     "metadata": {},
     "output_type": "execute_result"
    }
   ],
   "source": [
    "star_history.isnull().sum()\n"
   ]
  },
  {
   "cell_type": "code",
   "execution_count": 9,
   "metadata": {},
   "outputs": [],
   "source": [
    "star_history['Date'] = pd.to_datetime(star_history.Date)"
   ]
  },
  {
   "cell_type": "code",
   "execution_count": 10,
   "metadata": {},
   "outputs": [
    {
     "data": {
      "text/plain": [
       "(7372, 8)"
      ]
     },
     "execution_count": 10,
     "metadata": {},
     "output_type": "execute_result"
    }
   ],
   "source": [
    "star_history.shape"
   ]
  },
  {
   "cell_type": "code",
   "execution_count": 11,
   "metadata": {},
   "outputs": [],
   "source": [
    "star_history.drop('Stock Splits',axis=1, inplace=True)"
   ]
  },
  {
   "cell_type": "code",
   "execution_count": 14,
   "metadata": {},
   "outputs": [
    {
     "data": {
      "text/html": [
       "<div>\n",
       "<style scoped>\n",
       "    .dataframe tbody tr th:only-of-type {\n",
       "        vertical-align: middle;\n",
       "    }\n",
       "\n",
       "    .dataframe tbody tr th {\n",
       "        vertical-align: top;\n",
       "    }\n",
       "\n",
       "    .dataframe thead th {\n",
       "        text-align: right;\n",
       "    }\n",
       "</style>\n",
       "<table border=\"1\" class=\"dataframe\">\n",
       "  <thead>\n",
       "    <tr style=\"text-align: right;\">\n",
       "      <th></th>\n",
       "      <th>Date</th>\n",
       "      <th>Open</th>\n",
       "      <th>High</th>\n",
       "      <th>Low</th>\n",
       "      <th>Close</th>\n",
       "      <th>Volume</th>\n",
       "      <th>Dividends</th>\n",
       "    </tr>\n",
       "  </thead>\n",
       "  <tbody>\n",
       "    <tr>\n",
       "      <th>0</th>\n",
       "      <td>1992-06-26</td>\n",
       "      <td>0.270957</td>\n",
       "      <td>0.287086</td>\n",
       "      <td>0.264507</td>\n",
       "      <td>0.277409</td>\n",
       "      <td>224358400</td>\n",
       "      <td>0.0</td>\n",
       "    </tr>\n",
       "    <tr>\n",
       "      <th>1</th>\n",
       "      <td>1992-06-29</td>\n",
       "      <td>0.280635</td>\n",
       "      <td>0.303215</td>\n",
       "      <td>0.274183</td>\n",
       "      <td>0.296763</td>\n",
       "      <td>58732800</td>\n",
       "      <td>0.0</td>\n",
       "    </tr>\n",
       "    <tr>\n",
       "      <th>2</th>\n",
       "      <td>1992-06-30</td>\n",
       "      <td>0.303215</td>\n",
       "      <td>0.306440</td>\n",
       "      <td>0.283860</td>\n",
       "      <td>0.287086</td>\n",
       "      <td>34777600</td>\n",
       "      <td>0.0</td>\n",
       "    </tr>\n",
       "    <tr>\n",
       "      <th>3</th>\n",
       "      <td>1992-07-01</td>\n",
       "      <td>0.290312</td>\n",
       "      <td>0.296763</td>\n",
       "      <td>0.280635</td>\n",
       "      <td>0.293538</td>\n",
       "      <td>18316800</td>\n",
       "      <td>0.0</td>\n",
       "    </tr>\n",
       "    <tr>\n",
       "      <th>4</th>\n",
       "      <td>1992-07-02</td>\n",
       "      <td>0.296763</td>\n",
       "      <td>0.296763</td>\n",
       "      <td>0.287086</td>\n",
       "      <td>0.293538</td>\n",
       "      <td>13996800</td>\n",
       "      <td>0.0</td>\n",
       "    </tr>\n",
       "    <tr>\n",
       "      <th>...</th>\n",
       "      <td>...</td>\n",
       "      <td>...</td>\n",
       "      <td>...</td>\n",
       "      <td>...</td>\n",
       "      <td>...</td>\n",
       "      <td>...</td>\n",
       "      <td>...</td>\n",
       "    </tr>\n",
       "    <tr>\n",
       "      <th>7367</th>\n",
       "      <td>2021-09-27</td>\n",
       "      <td>113.610001</td>\n",
       "      <td>114.669998</td>\n",
       "      <td>112.910004</td>\n",
       "      <td>113.680000</td>\n",
       "      <td>3988800</td>\n",
       "      <td>0.0</td>\n",
       "    </tr>\n",
       "    <tr>\n",
       "      <th>7368</th>\n",
       "      <td>2021-09-28</td>\n",
       "      <td>112.680000</td>\n",
       "      <td>113.000000</td>\n",
       "      <td>111.080002</td>\n",
       "      <td>111.709999</td>\n",
       "      <td>5917700</td>\n",
       "      <td>0.0</td>\n",
       "    </tr>\n",
       "    <tr>\n",
       "      <th>7369</th>\n",
       "      <td>2021-09-29</td>\n",
       "      <td>111.900002</td>\n",
       "      <td>112.519997</td>\n",
       "      <td>111.570000</td>\n",
       "      <td>112.169998</td>\n",
       "      <td>4389100</td>\n",
       "      <td>0.0</td>\n",
       "    </tr>\n",
       "    <tr>\n",
       "      <th>7370</th>\n",
       "      <td>2021-09-30</td>\n",
       "      <td>111.519997</td>\n",
       "      <td>112.160004</td>\n",
       "      <td>110.309998</td>\n",
       "      <td>110.309998</td>\n",
       "      <td>5974500</td>\n",
       "      <td>0.0</td>\n",
       "    </tr>\n",
       "    <tr>\n",
       "      <th>7371</th>\n",
       "      <td>2021-10-01</td>\n",
       "      <td>110.889999</td>\n",
       "      <td>113.459999</td>\n",
       "      <td>110.540001</td>\n",
       "      <td>112.919998</td>\n",
       "      <td>5244849</td>\n",
       "      <td>0.0</td>\n",
       "    </tr>\n",
       "  </tbody>\n",
       "</table>\n",
       "<p>7372 rows × 7 columns</p>\n",
       "</div>"
      ],
      "text/plain": [
       "           Date        Open        High         Low       Close     Volume   \n",
       "0    1992-06-26    0.270957    0.287086    0.264507    0.277409  224358400  \\\n",
       "1    1992-06-29    0.280635    0.303215    0.274183    0.296763   58732800   \n",
       "2    1992-06-30    0.303215    0.306440    0.283860    0.287086   34777600   \n",
       "3    1992-07-01    0.290312    0.296763    0.280635    0.293538   18316800   \n",
       "4    1992-07-02    0.296763    0.296763    0.287086    0.293538   13996800   \n",
       "...         ...         ...         ...         ...         ...        ...   \n",
       "7367 2021-09-27  113.610001  114.669998  112.910004  113.680000    3988800   \n",
       "7368 2021-09-28  112.680000  113.000000  111.080002  111.709999    5917700   \n",
       "7369 2021-09-29  111.900002  112.519997  111.570000  112.169998    4389100   \n",
       "7370 2021-09-30  111.519997  112.160004  110.309998  110.309998    5974500   \n",
       "7371 2021-10-01  110.889999  113.459999  110.540001  112.919998    5244849   \n",
       "\n",
       "      Dividends  \n",
       "0           0.0  \n",
       "1           0.0  \n",
       "2           0.0  \n",
       "3           0.0  \n",
       "4           0.0  \n",
       "...         ...  \n",
       "7367        0.0  \n",
       "7368        0.0  \n",
       "7369        0.0  \n",
       "7370        0.0  \n",
       "7371        0.0  \n",
       "\n",
       "[7372 rows x 7 columns]"
      ]
     },
     "execution_count": 14,
     "metadata": {},
     "output_type": "execute_result"
    }
   ],
   "source": [
    "star_history\n"
   ]
  },
  {
   "cell_type": "code",
   "execution_count": 16,
   "metadata": {},
   "outputs": [],
   "source": [
    "star_history.drop('Dividends',axis=1, inplace=True)"
   ]
  },
  {
   "cell_type": "code",
   "execution_count": 17,
   "metadata": {},
   "outputs": [
    {
     "data": {
      "text/html": [
       "<div>\n",
       "<style scoped>\n",
       "    .dataframe tbody tr th:only-of-type {\n",
       "        vertical-align: middle;\n",
       "    }\n",
       "\n",
       "    .dataframe tbody tr th {\n",
       "        vertical-align: top;\n",
       "    }\n",
       "\n",
       "    .dataframe thead th {\n",
       "        text-align: right;\n",
       "    }\n",
       "</style>\n",
       "<table border=\"1\" class=\"dataframe\">\n",
       "  <thead>\n",
       "    <tr style=\"text-align: right;\">\n",
       "      <th></th>\n",
       "      <th>Date</th>\n",
       "      <th>Open</th>\n",
       "      <th>High</th>\n",
       "      <th>Low</th>\n",
       "      <th>Close</th>\n",
       "      <th>Volume</th>\n",
       "    </tr>\n",
       "  </thead>\n",
       "  <tbody>\n",
       "    <tr>\n",
       "      <th>0</th>\n",
       "      <td>1992-06-26</td>\n",
       "      <td>0.270957</td>\n",
       "      <td>0.287086</td>\n",
       "      <td>0.264507</td>\n",
       "      <td>0.277409</td>\n",
       "      <td>224358400</td>\n",
       "    </tr>\n",
       "    <tr>\n",
       "      <th>1</th>\n",
       "      <td>1992-06-29</td>\n",
       "      <td>0.280635</td>\n",
       "      <td>0.303215</td>\n",
       "      <td>0.274183</td>\n",
       "      <td>0.296763</td>\n",
       "      <td>58732800</td>\n",
       "    </tr>\n",
       "    <tr>\n",
       "      <th>2</th>\n",
       "      <td>1992-06-30</td>\n",
       "      <td>0.303215</td>\n",
       "      <td>0.306440</td>\n",
       "      <td>0.283860</td>\n",
       "      <td>0.287086</td>\n",
       "      <td>34777600</td>\n",
       "    </tr>\n",
       "    <tr>\n",
       "      <th>3</th>\n",
       "      <td>1992-07-01</td>\n",
       "      <td>0.290312</td>\n",
       "      <td>0.296763</td>\n",
       "      <td>0.280635</td>\n",
       "      <td>0.293538</td>\n",
       "      <td>18316800</td>\n",
       "    </tr>\n",
       "    <tr>\n",
       "      <th>4</th>\n",
       "      <td>1992-07-02</td>\n",
       "      <td>0.296763</td>\n",
       "      <td>0.296763</td>\n",
       "      <td>0.287086</td>\n",
       "      <td>0.293538</td>\n",
       "      <td>13996800</td>\n",
       "    </tr>\n",
       "    <tr>\n",
       "      <th>...</th>\n",
       "      <td>...</td>\n",
       "      <td>...</td>\n",
       "      <td>...</td>\n",
       "      <td>...</td>\n",
       "      <td>...</td>\n",
       "      <td>...</td>\n",
       "    </tr>\n",
       "    <tr>\n",
       "      <th>7367</th>\n",
       "      <td>2021-09-27</td>\n",
       "      <td>113.610001</td>\n",
       "      <td>114.669998</td>\n",
       "      <td>112.910004</td>\n",
       "      <td>113.680000</td>\n",
       "      <td>3988800</td>\n",
       "    </tr>\n",
       "    <tr>\n",
       "      <th>7368</th>\n",
       "      <td>2021-09-28</td>\n",
       "      <td>112.680000</td>\n",
       "      <td>113.000000</td>\n",
       "      <td>111.080002</td>\n",
       "      <td>111.709999</td>\n",
       "      <td>5917700</td>\n",
       "    </tr>\n",
       "    <tr>\n",
       "      <th>7369</th>\n",
       "      <td>2021-09-29</td>\n",
       "      <td>111.900002</td>\n",
       "      <td>112.519997</td>\n",
       "      <td>111.570000</td>\n",
       "      <td>112.169998</td>\n",
       "      <td>4389100</td>\n",
       "    </tr>\n",
       "    <tr>\n",
       "      <th>7370</th>\n",
       "      <td>2021-09-30</td>\n",
       "      <td>111.519997</td>\n",
       "      <td>112.160004</td>\n",
       "      <td>110.309998</td>\n",
       "      <td>110.309998</td>\n",
       "      <td>5974500</td>\n",
       "    </tr>\n",
       "    <tr>\n",
       "      <th>7371</th>\n",
       "      <td>2021-10-01</td>\n",
       "      <td>110.889999</td>\n",
       "      <td>113.459999</td>\n",
       "      <td>110.540001</td>\n",
       "      <td>112.919998</td>\n",
       "      <td>5244849</td>\n",
       "    </tr>\n",
       "  </tbody>\n",
       "</table>\n",
       "<p>7372 rows × 6 columns</p>\n",
       "</div>"
      ],
      "text/plain": [
       "           Date        Open        High         Low       Close     Volume\n",
       "0    1992-06-26    0.270957    0.287086    0.264507    0.277409  224358400\n",
       "1    1992-06-29    0.280635    0.303215    0.274183    0.296763   58732800\n",
       "2    1992-06-30    0.303215    0.306440    0.283860    0.287086   34777600\n",
       "3    1992-07-01    0.290312    0.296763    0.280635    0.293538   18316800\n",
       "4    1992-07-02    0.296763    0.296763    0.287086    0.293538   13996800\n",
       "...         ...         ...         ...         ...         ...        ...\n",
       "7367 2021-09-27  113.610001  114.669998  112.910004  113.680000    3988800\n",
       "7368 2021-09-28  112.680000  113.000000  111.080002  111.709999    5917700\n",
       "7369 2021-09-29  111.900002  112.519997  111.570000  112.169998    4389100\n",
       "7370 2021-09-30  111.519997  112.160004  110.309998  110.309998    5974500\n",
       "7371 2021-10-01  110.889999  113.459999  110.540001  112.919998    5244849\n",
       "\n",
       "[7372 rows x 6 columns]"
      ]
     },
     "execution_count": 17,
     "metadata": {},
     "output_type": "execute_result"
    }
   ],
   "source": [
    "star_history"
   ]
  },
  {
   "cell_type": "code",
   "execution_count": 18,
   "metadata": {},
   "outputs": [
    {
     "data": {
      "text/plain": [
       "<bound method DataFrame.info of            Date        Open        High         Low       Close     Volume\n",
       "0    1992-06-26    0.270957    0.287086    0.264507    0.277409  224358400\n",
       "1    1992-06-29    0.280635    0.303215    0.274183    0.296763   58732800\n",
       "2    1992-06-30    0.303215    0.306440    0.283860    0.287086   34777600\n",
       "3    1992-07-01    0.290312    0.296763    0.280635    0.293538   18316800\n",
       "4    1992-07-02    0.296763    0.296763    0.287086    0.293538   13996800\n",
       "...         ...         ...         ...         ...         ...        ...\n",
       "7367 2021-09-27  113.610001  114.669998  112.910004  113.680000    3988800\n",
       "7368 2021-09-28  112.680000  113.000000  111.080002  111.709999    5917700\n",
       "7369 2021-09-29  111.900002  112.519997  111.570000  112.169998    4389100\n",
       "7370 2021-09-30  111.519997  112.160004  110.309998  110.309998    5974500\n",
       "7371 2021-10-01  110.889999  113.459999  110.540001  112.919998    5244849\n",
       "\n",
       "[7372 rows x 6 columns]>"
      ]
     },
     "execution_count": 18,
     "metadata": {},
     "output_type": "execute_result"
    }
   ],
   "source": [
    "star_history.info"
   ]
  },
  {
   "cell_type": "code",
   "execution_count": 19,
   "metadata": {},
   "outputs": [
    {
     "name": "stdout",
     "output_type": "stream",
     "text": [
      "<class 'pandas.core.frame.DataFrame'>\n",
      "RangeIndex: 7372 entries, 0 to 7371\n",
      "Data columns (total 6 columns):\n",
      " #   Column  Non-Null Count  Dtype         \n",
      "---  ------  --------------  -----         \n",
      " 0   Date    7372 non-null   datetime64[ns]\n",
      " 1   Open    7372 non-null   float64       \n",
      " 2   High    7372 non-null   float64       \n",
      " 3   Low     7372 non-null   float64       \n",
      " 4   Close   7372 non-null   float64       \n",
      " 5   Volume  7372 non-null   int64         \n",
      "dtypes: datetime64[ns](1), float64(4), int64(1)\n",
      "memory usage: 345.7 KB\n"
     ]
    }
   ],
   "source": [
    "star_history.info()"
   ]
  },
  {
   "cell_type": "code",
   "execution_count": 20,
   "metadata": {},
   "outputs": [
    {
     "data": {
      "text/html": [
       "<div>\n",
       "<style scoped>\n",
       "    .dataframe tbody tr th:only-of-type {\n",
       "        vertical-align: middle;\n",
       "    }\n",
       "\n",
       "    .dataframe tbody tr th {\n",
       "        vertical-align: top;\n",
       "    }\n",
       "\n",
       "    .dataframe thead th {\n",
       "        text-align: right;\n",
       "    }\n",
       "</style>\n",
       "<table border=\"1\" class=\"dataframe\">\n",
       "  <thead>\n",
       "    <tr style=\"text-align: right;\">\n",
       "      <th></th>\n",
       "      <th>Date</th>\n",
       "      <th>Open</th>\n",
       "      <th>High</th>\n",
       "      <th>Low</th>\n",
       "      <th>Close</th>\n",
       "      <th>Volume</th>\n",
       "    </tr>\n",
       "  </thead>\n",
       "  <tbody>\n",
       "    <tr>\n",
       "      <th>count</th>\n",
       "      <td>7372</td>\n",
       "      <td>7372.000000</td>\n",
       "      <td>7372.000000</td>\n",
       "      <td>7372.000000</td>\n",
       "      <td>7372.000000</td>\n",
       "      <td>7.372000e+03</td>\n",
       "    </tr>\n",
       "    <tr>\n",
       "      <th>mean</th>\n",
       "      <td>2007-02-10 07:44:53.651654912</td>\n",
       "      <td>22.111116</td>\n",
       "      <td>22.328499</td>\n",
       "      <td>21.889586</td>\n",
       "      <td>22.117324</td>\n",
       "      <td>1.531211e+07</td>\n",
       "    </tr>\n",
       "    <tr>\n",
       "      <th>min</th>\n",
       "      <td>1992-06-26 00:00:00</td>\n",
       "      <td>0.270957</td>\n",
       "      <td>0.287086</td>\n",
       "      <td>0.264507</td>\n",
       "      <td>0.277409</td>\n",
       "      <td>1.504000e+06</td>\n",
       "    </tr>\n",
       "    <tr>\n",
       "      <th>25%</th>\n",
       "      <td>1999-10-12 18:00:00</td>\n",
       "      <td>3.002790</td>\n",
       "      <td>3.093206</td>\n",
       "      <td>2.922471</td>\n",
       "      <td>2.999823</td>\n",
       "      <td>8.254150e+06</td>\n",
       "    </tr>\n",
       "    <tr>\n",
       "      <th>50%</th>\n",
       "      <td>2007-02-12 12:00:00</td>\n",
       "      <td>9.756537</td>\n",
       "      <td>9.855629</td>\n",
       "      <td>9.634734</td>\n",
       "      <td>9.763925</td>\n",
       "      <td>1.227860e+07</td>\n",
       "    </tr>\n",
       "    <tr>\n",
       "      <th>75%</th>\n",
       "      <td>2014-06-09 06:00:00</td>\n",
       "      <td>33.884453</td>\n",
       "      <td>34.146608</td>\n",
       "      <td>33.633797</td>\n",
       "      <td>33.889964</td>\n",
       "      <td>1.831200e+07</td>\n",
       "    </tr>\n",
       "    <tr>\n",
       "      <th>max</th>\n",
       "      <td>2021-10-01 00:00:00</td>\n",
       "      <td>125.592534</td>\n",
       "      <td>125.831609</td>\n",
       "      <td>124.327440</td>\n",
       "      <td>125.572609</td>\n",
       "      <td>5.855088e+08</td>\n",
       "    </tr>\n",
       "    <tr>\n",
       "      <th>std</th>\n",
       "      <td>NaN</td>\n",
       "      <td>27.496121</td>\n",
       "      <td>27.725446</td>\n",
       "      <td>27.256726</td>\n",
       "      <td>27.500922</td>\n",
       "      <td>1.376366e+07</td>\n",
       "    </tr>\n",
       "  </tbody>\n",
       "</table>\n",
       "</div>"
      ],
      "text/plain": [
       "                                Date         Open         High          Low   \n",
       "count                           7372  7372.000000  7372.000000  7372.000000  \\\n",
       "mean   2007-02-10 07:44:53.651654912    22.111116    22.328499    21.889586   \n",
       "min              1992-06-26 00:00:00     0.270957     0.287086     0.264507   \n",
       "25%              1999-10-12 18:00:00     3.002790     3.093206     2.922471   \n",
       "50%              2007-02-12 12:00:00     9.756537     9.855629     9.634734   \n",
       "75%              2014-06-09 06:00:00    33.884453    34.146608    33.633797   \n",
       "max              2021-10-01 00:00:00   125.592534   125.831609   124.327440   \n",
       "std                              NaN    27.496121    27.725446    27.256726   \n",
       "\n",
       "             Close        Volume  \n",
       "count  7372.000000  7.372000e+03  \n",
       "mean     22.117324  1.531211e+07  \n",
       "min       0.277409  1.504000e+06  \n",
       "25%       2.999823  8.254150e+06  \n",
       "50%       9.763925  1.227860e+07  \n",
       "75%      33.889964  1.831200e+07  \n",
       "max     125.572609  5.855088e+08  \n",
       "std      27.500922  1.376366e+07  "
      ]
     },
     "execution_count": 20,
     "metadata": {},
     "output_type": "execute_result"
    }
   ],
   "source": [
    "star_history.describe()"
   ]
  },
  {
   "cell_type": "code",
   "execution_count": 16,
   "metadata": {},
   "outputs": [
    {
     "name": "stdout",
     "output_type": "stream",
     "text": [
      "7372\n"
     ]
    }
   ],
   "source": [
    "print(len(star_history))"
   ]
  },
  {
   "cell_type": "code",
   "execution_count": 22,
   "metadata": {},
   "outputs": [],
   "source": [
    "import matplotlib as mtpl"
   ]
  },
  {
   "cell_type": "code",
   "execution_count": 23,
   "metadata": {},
   "outputs": [
    {
     "data": {
      "text/plain": [
       "<Axes: >"
      ]
     },
     "execution_count": 23,
     "metadata": {},
     "output_type": "execute_result"
    },
    {
     "data": {
      "image/png": "[encoded data removed]",
      "text/plain": [
       "<Figure size 1600x600 with 1 Axes>"
      ]
     },
     "metadata": {},
     "output_type": "display_data"
    }
   ],
   "source": [
    "star_history['Open'].plot(figsize=(16,6))"
   ]
  },
  {
   "cell_type": "code",
   "execution_count": 26,
   "metadata": {},
   "outputs": [
    {
     "name": "stdout",
     "output_type": "stream",
     "text": [
      "Collecting sklearn\n",
      "  Downloading sklearn-0.0.post4.tar.gz (3.6 kB)\n",
      "  Preparing metadata (setup.py): started\n",
      "  Preparing metadata (setup.py): finished with status 'error'\n",
      "Note: you may need to restart the kernel to use updated packages.\n"
     ]
    },
    {
     "name": "stderr",
     "output_type": "stream",
     "text": [
      "  error: subprocess-exited-with-error\n",
      "  \n",
      "  × python setup.py egg_info did not run successfully.\n",
      "  │ exit code: 1\n",
      "  ╰─> [10 lines of output]\n",
      "      Traceback (most recent call last):\n",
      "        File \"<string>\", line 2, in <module>\n",
      "        File \"<pip-setuptools-caller>\", line 34, in <module>\n",
      "        File \"C:\\Users\\User\\AppData\\Local\\Temp\\pip-install-7zs4kxam\\sklearn_018573983ad248f0ba0696b6e12c8a4e\\setup.py\", line 10, in <module>\n",
      "          LONG_DESCRIPTION = f.read()\n",
      "                             ^^^^^^^^\n",
      "        File \"c:\\Users\\User\\AppData\\Local\\Programs\\Python\\Python311\\Lib\\encodings\\cp1252.py\", line 23, in decode\n",
      "          return codecs.charmap_decode(input,self.errors,decoding_table)[0]\n",
      "                 ^^^^^^^^^^^^^^^^^^^^^^^^^^^^^^^^^^^^^^^^^^^^^^^^^^^^^^^\n",
      "      UnicodeDecodeError: 'charmap' codec can't decode byte 0x8f in position 7: character maps to <undefined>\n",
      "      [end of output]\n",
      "  \n",
      "  note: This error originates from a subprocess, and is likely not a problem with pip.\n",
      "error: metadata-generation-failed\n",
      "\n",
      "× Encountered error while generating package metadata.\n",
      "╰─> See above for output.\n",
      "\n",
      "note: This is an issue with the package mentioned above, not pip.\n",
      "hint: See above for details.\n",
      "\n",
      "[notice] A new release of pip available: 22.3.1 -> 23.1.2\n",
      "[notice] To update, run: python.exe -m pip install --upgrade pip\n"
     ]
    }
   ],
   "source": [
    "pip install sklearn\n"
   ]
  },
  {
   "cell_type": "code",
   "execution_count": 10,
   "metadata": {},
   "outputs": [
    {
     "name": "stdout",
     "output_type": "stream",
     "text": [
      "Note: you may need to restart the kernel to use updated packages.\n"
     ]
    },
    {
     "name": "stderr",
     "output_type": "stream",
     "text": [
      "ERROR: Could not find a version that satisfies the requirement Scikit (from versions: none)\n",
      "ERROR: No matching distribution found for Scikit\n",
      "\n",
      "[notice] A new release of pip available: 22.3.1 -> 23.1.2\n",
      "[notice] To update, run: python.exe -m pip install --upgrade pip\n"
     ]
    }
   ],
   "source": [
    "pip install Scikit"
   ]
  },
  {
   "cell_type": "code",
   "execution_count": 17,
   "metadata": {},
   "outputs": [
    {
     "name": "stdout",
     "output_type": "stream",
     "text": [
      "Collecting scikit-learnNote: you may need to restart the kernel to use updated packages.\n",
      "\n",
      "  Downloading scikit_learn-1.2.2-cp311-cp311-win_amd64.whl (8.3 MB)\n",
      "     ---------------------------------------- 8.3/8.3 MB 1.5 MB/s eta 0:00:00\n",
      "Requirement already satisfied: numpy>=1.17.3 in c:\\users\\user\\appdata\\local\\programs\\python\\python311\\lib\\site-packages (from scikit-learn) (1.24.2)\n",
      "Collecting scipy>=1.3.2\n",
      "  Downloading scipy-1.10.1-cp311-cp311-win_amd64.whl (42.2 MB)\n",
      "     ---------------------------------------- 42.2/42.2 MB 1.4 MB/s eta 0:00:00\n",
      "Collecting joblib>=1.1.1\n",
      "  Downloading joblib-1.2.0-py3-none-any.whl (297 kB)\n",
      "     -------------------------------------- 298.0/298.0 kB 1.2 MB/s eta 0:00:00\n",
      "Collecting threadpoolctl>=2.0.0\n",
      "  Downloading threadpoolctl-3.1.0-py3-none-any.whl (14 kB)\n",
      "Installing collected packages: threadpoolctl, scipy, joblib, scikit-learn\n",
      "Successfully installed joblib-1.2.0 scikit-learn-1.2.2 scipy-1.10.1 threadpoolctl-3.1.0\n"
     ]
    },
    {
     "name": "stderr",
     "output_type": "stream",
     "text": [
      "\n",
      "[notice] A new release of pip available: 22.3.1 -> 23.1.2\n",
      "[notice] To update, run: python.exe -m pip install --upgrade pip\n"
     ]
    }
   ],
   "source": [
    "pip install --upgrade scikit-learn\n"
   ]
  },
  {
   "cell_type": "code",
   "execution_count": null,
   "metadata": {},
   "outputs": [],
   "source": [
    "//TRAINING DATASETS"
   ]
  },
  {
   "cell_type": "code",
   "execution_count": 18,
   "metadata": {},
   "outputs": [],
   "source": [
    "x = star_history[['Open', 'High', 'Low', 'Volume']]\n",
    "y = star_history['Close']"
   ]
  },
  {
   "cell_type": "code",
   "execution_count": 19,
   "metadata": {},
   "outputs": [],
   "source": [
    "import numpy as np\n",
    "from sklearn.model_selection import train_test_split\n",
    "x_train , x_test,y_train, y_test = train_test_split(x,y,random_state=0)\n"
   ]
  },
  {
   "cell_type": "code",
   "execution_count": 20,
   "metadata": {},
   "outputs": [
    {
     "data": {
      "text/plain": [
       "(5529, 4)"
      ]
     },
     "execution_count": 20,
     "metadata": {},
     "output_type": "execute_result"
    }
   ],
   "source": [
    "x_train.shape"
   ]
  },
  {
   "cell_type": "code",
   "execution_count": 22,
   "metadata": {},
   "outputs": [
    {
     "data": {
      "text/plain": [
       "(1843, 4)"
      ]
     },
     "execution_count": 22,
     "metadata": {},
     "output_type": "execute_result"
    }
   ],
   "source": [
    "x_test.shape"
   ]
  },
  {
   "cell_type": "code",
   "execution_count": 25,
   "metadata": {},
   "outputs": [],
   "source": [
    "from sklearn.linear_model import LinearRegression\n",
    "from sklearn.metrics import confusion_matrix,accuracy_score\n",
    "regressor = LinearRegression()"
   ]
  },
  {
   "cell_type": "code",
   "execution_count": 26,
   "metadata": {},
   "outputs": [
    {
     "data": {
      "text/html": [
       "<style>#sk-container-id-1 {color: black;background-color: white;}#sk-container-id-1 pre{padding: 0;}#sk-container-id-1 div.sk-toggleable {background-color: white;}#sk-container-id-1 label.sk-toggleable__label {cursor: pointer;display: block;width: 100%;margin-bottom: 0;padding: 0.3em;box-sizing: border-box;text-align: center;}#sk-container-id-1 label.sk-toggleable__label-arrow:before {content: \"▸\";float: left;margin-right: 0.25em;color: #696969;}#sk-container-id-1 label.sk-toggleable__label-arrow:hover:before {color: black;}#sk-container-id-1 div.sk-estimator:hover label.sk-toggleable__label-arrow:before {color: black;}#sk-container-id-1 div.sk-toggleable__content {max-height: 0;max-width: 0;overflow: hidden;text-align: left;background-color: #f0f8ff;}#sk-container-id-1 div.sk-toggleable__content pre {margin: 0.2em;color: black;border-radius: 0.25em;background-color: #f0f8ff;}#sk-container-id-1 input.sk-toggleable__control:checked~div.sk-toggleable__content {max-height: 200px;max-width: 100%;overflow: auto;}#sk-container-id-1 input.sk-toggleable__control:checked~label.sk-toggleable__label-arrow:before {content: \"▾\";}#sk-container-id-1 div.sk-estimator input.sk-toggleable__control:checked~label.sk-toggleable__label {background-color: #d4ebff;}#sk-container-id-1 div.sk-label input.sk-toggleable__control:checked~label.sk-toggleable__label {background-color: #d4ebff;}#sk-container-id-1 input.sk-hidden--visually {border: 0;clip: rect(1px 1px 1px 1px);clip: rect(1px, 1px, 1px, 1px);height: 1px;margin: -1px;overflow: hidden;padding: 0;position: absolute;width: 1px;}#sk-container-id-1 div.sk-estimator {font-family: monospace;background-color: #f0f8ff;border: 1px dotted black;border-radius: 0.25em;box-sizing: border-box;margin-bottom: 0.5em;}#sk-container-id-1 div.sk-estimator:hover {background-color: #d4ebff;}#sk-container-id-1 div.sk-parallel-item::after {content: \"\";width: 100%;border-bottom: 1px solid gray;flex-grow: 1;}#sk-container-id-1 div.sk-label:hover label.sk-toggleable__label {background-color: #d4ebff;}#sk-container-id-1 div.sk-serial::before {content: \"\";position: absolute;border-left: 1px solid gray;box-sizing: border-box;top: 0;bottom: 0;left: 50%;z-index: 0;}#sk-container-id-1 div.sk-serial {display: flex;flex-direction: column;align-items: center;background-color: white;padding-right: 0.2em;padding-left: 0.2em;position: relative;}#sk-container-id-1 div.sk-item {position: relative;z-index: 1;}#sk-container-id-1 div.sk-parallel {display: flex;align-items: stretch;justify-content: center;background-color: white;position: relative;}#sk-container-id-1 div.sk-item::before, #sk-container-id-1 div.sk-parallel-item::before {content: \"\";position: absolute;border-left: 1px solid gray;box-sizing: border-box;top: 0;bottom: 0;left: 50%;z-index: -1;}#sk-container-id-1 div.sk-parallel-item {display: flex;flex-direction: column;z-index: 1;position: relative;background-color: white;}#sk-container-id-1 div.sk-parallel-item:first-child::after {align-self: flex-end;width: 50%;}#sk-container-id-1 div.sk-parallel-item:last-child::after {align-self: flex-start;width: 50%;}#sk-container-id-1 div.sk-parallel-item:only-child::after {width: 0;}#sk-container-id-1 div.sk-dashed-wrapped {border: 1px dashed gray;margin: 0 0.4em 0.5em 0.4em;box-sizing: border-box;padding-bottom: 0.4em;background-color: white;}#sk-container-id-1 div.sk-label label {font-family: monospace;font-weight: bold;display: inline-block;line-height: 1.2em;}#sk-container-id-1 div.sk-label-container {text-align: center;}#sk-container-id-1 div.sk-container {/* jupyter's `normalize.less` sets `[hidden] { display: none; }` but bootstrap.min.css set `[hidden] { display: none !important; }` so we also need the `!important` here to be able to override the default hidden behavior on the sphinx rendered scikit-learn.org. See: https://github.com/scikit-learn/scikit-learn/issues/21755 */display: inline-block !important;position: relative;}#sk-container-id-1 div.sk-text-repr-fallback {display: none;}</style><div id=\"sk-container-id-1\" class=\"sk-top-container\"><div class=\"sk-text-repr-fallback\"><pre>LinearRegression()</pre><b>In a Jupyter environment, please rerun this cell to show the HTML representation or trust the notebook. <br />On GitHub, the HTML representation is unable to render, please try loading this page with nbviewer.org.</b></div><div class=\"sk-container\" hidden><div class=\"sk-item\"><div class=\"sk-estimator sk-toggleable\"><input class=\"sk-toggleable__control sk-hidden--visually\" id=\"sk-estimator-id-1\" type=\"checkbox\" checked><label for=\"sk-estimator-id-1\" class=\"sk-toggleable__label sk-toggleable__label-arrow\">LinearRegression</label><div class=\"sk-toggleable__content\"><pre>LinearRegression()</pre></div></div></div></div></div>"
      ],
      "text/plain": [
       "LinearRegression()"
      ]
     },
     "execution_count": 26,
     "metadata": {},
     "output_type": "execute_result"
    }
   ],
   "source": [
    "regressor.fit(x_train,y_train)"
   ]
  },
  {
   "cell_type": "code",
   "execution_count": 27,
   "metadata": {},
   "outputs": [
    {
     "name": "stdout",
     "output_type": "stream",
     "text": [
      "[-5.29254350e-01  8.24512886e-01  7.04317790e-01 -1.05801257e-10]\n"
     ]
    }
   ],
   "source": [
    "print(regressor.coef_)"
   ]
  },
  {
   "cell_type": "code",
   "execution_count": 28,
   "metadata": {},
   "outputs": [
    {
     "name": "stdout",
     "output_type": "stream",
     "text": [
      "-0.004091548386458754\n"
     ]
    }
   ],
   "source": [
    "print(regressor.intercept_)"
   ]
  },
  {
   "attachments": {},
   "cell_type": "markdown",
   "metadata": {},
   "source": [
    "Predicting the dataset ➡️"
   ]
  },
  {
   "cell_type": "code",
   "execution_count": 29,
   "metadata": {},
   "outputs": [],
   "source": [
    "predict = regressor.predict(x_test)"
   ]
  },
  {
   "cell_type": "code",
   "execution_count": 30,
   "metadata": {},
   "outputs": [
    {
     "name": "stdout",
     "output_type": "stream",
     "text": [
      "           Open       High        Low    Volume\n",
      "4285   5.949713   6.015775   5.693722  43132800\n",
      "3964   7.246180   7.436109   7.225536  44695600\n",
      "4149   3.670572   3.897660   3.645799  20531200\n",
      "7096  82.394301  83.869315  82.040297   9303900\n",
      "4389   8.835797   9.017468   8.802766  14864800\n",
      "...         ...        ...        ...       ...\n",
      "7048  73.253901  73.987418  72.295435   8238600\n",
      "7046  75.033897  75.102358  74.134118   8486000\n",
      "1172   1.896703   1.922508   1.877349  16310400\n",
      "2696   4.686275   4.711048   4.603697  13686000\n",
      "6689  60.507046  61.181668  60.431030   6767100\n",
      "\n",
      "[1843 rows x 4 columns]\n"
     ]
    }
   ],
   "source": [
    "print (x_test)"
   ]
  },
  {
   "cell_type": "code",
   "execution_count": 31,
   "metadata": {},
   "outputs": [
    {
     "data": {
      "text/plain": [
       "(1843,)"
      ]
     },
     "execution_count": 31,
     "metadata": {},
     "output_type": "execute_result"
    }
   ],
   "source": [
    "predict.shape"
   ]
  },
  {
   "cell_type": "code",
   "execution_count": 48,
   "metadata": {},
   "outputs": [],
   "source": [
    "dframe = pd.DataFrame(y_test,predict)"
   ]
  },
  {
   "cell_type": "code",
   "execution_count": 33,
   "metadata": {},
   "outputs": [],
   "source": [
    "dfr=pd.DataFrame({'Actual Price':y_test,'Predicted Price':predict})"
   ]
  },
  {
   "cell_type": "code",
   "execution_count": 34,
   "metadata": {},
   "outputs": [
    {
     "name": "stdout",
     "output_type": "stream",
     "text": [
      "      Actual Price  Predicted Price\n",
      "4285      5.735011         5.812707\n",
      "3964      7.386562         7.376349\n",
      "4149      3.856371         3.832542\n",
      "7096     83.584145        83.321153\n",
      "4389      9.009210         8.952915\n",
      "...            ...              ...\n",
      "7048     73.742912        73.147632\n",
      "7046     74.632904        74.419834\n",
      "1172      1.916057         1.897728\n",
      "2696      4.638793         4.641015\n",
      "6689     61.077148        60.979299\n",
      "\n",
      "[1843 rows x 2 columns]\n"
     ]
    }
   ],
   "source": [
    "print(dfr)"
   ]
  },
  {
   "attachments": {},
   "cell_type": "markdown",
   "metadata": {},
   "source": [
    "Comparing the actual price with the predicted price ➡️"
   ]
  },
  {
   "cell_type": "code",
   "execution_count": 35,
   "metadata": {},
   "outputs": [
    {
     "data": {
      "text/html": [
       "<div>\n",
       "<style scoped>\n",
       "    .dataframe tbody tr th:only-of-type {\n",
       "        vertical-align: middle;\n",
       "    }\n",
       "\n",
       "    .dataframe tbody tr th {\n",
       "        vertical-align: top;\n",
       "    }\n",
       "\n",
       "    .dataframe thead th {\n",
       "        text-align: right;\n",
       "    }\n",
       "</style>\n",
       "<table border=\"1\" class=\"dataframe\">\n",
       "  <thead>\n",
       "    <tr style=\"text-align: right;\">\n",
       "      <th></th>\n",
       "      <th>Actual Price</th>\n",
       "      <th>Predicted Price</th>\n",
       "    </tr>\n",
       "  </thead>\n",
       "  <tbody>\n",
       "    <tr>\n",
       "      <th>4285</th>\n",
       "      <td>5.735011</td>\n",
       "      <td>5.812707</td>\n",
       "    </tr>\n",
       "    <tr>\n",
       "      <th>3964</th>\n",
       "      <td>7.386562</td>\n",
       "      <td>7.376349</td>\n",
       "    </tr>\n",
       "    <tr>\n",
       "      <th>4149</th>\n",
       "      <td>3.856371</td>\n",
       "      <td>3.832542</td>\n",
       "    </tr>\n",
       "    <tr>\n",
       "      <th>7096</th>\n",
       "      <td>83.584145</td>\n",
       "      <td>83.321153</td>\n",
       "    </tr>\n",
       "    <tr>\n",
       "      <th>4389</th>\n",
       "      <td>9.009210</td>\n",
       "      <td>8.952915</td>\n",
       "    </tr>\n",
       "    <tr>\n",
       "      <th>5747</th>\n",
       "      <td>43.026691</td>\n",
       "      <td>42.893355</td>\n",
       "    </tr>\n",
       "    <tr>\n",
       "      <th>4166</th>\n",
       "      <td>4.186680</td>\n",
       "      <td>4.122245</td>\n",
       "    </tr>\n",
       "    <tr>\n",
       "      <th>4771</th>\n",
       "      <td>14.827783</td>\n",
       "      <td>14.838427</td>\n",
       "    </tr>\n",
       "    <tr>\n",
       "      <th>1692</th>\n",
       "      <td>3.167624</td>\n",
       "      <td>3.146593</td>\n",
       "    </tr>\n",
       "    <tr>\n",
       "      <th>6792</th>\n",
       "      <td>79.662941</td>\n",
       "      <td>80.029715</td>\n",
       "    </tr>\n",
       "    <tr>\n",
       "      <th>7162</th>\n",
       "      <td>97.721092</td>\n",
       "      <td>97.503196</td>\n",
       "    </tr>\n",
       "    <tr>\n",
       "      <th>991</th>\n",
       "      <td>1.374142</td>\n",
       "      <td>1.346433</td>\n",
       "    </tr>\n",
       "    <tr>\n",
       "      <th>875</th>\n",
       "      <td>1.154795</td>\n",
       "      <td>1.150842</td>\n",
       "    </tr>\n",
       "    <tr>\n",
       "      <th>3212</th>\n",
       "      <td>10.772243</td>\n",
       "      <td>10.867033</td>\n",
       "    </tr>\n",
       "    <tr>\n",
       "      <th>4601</th>\n",
       "      <td>10.648690</td>\n",
       "      <td>10.693594</td>\n",
       "    </tr>\n",
       "    <tr>\n",
       "      <th>3637</th>\n",
       "      <td>14.570808</td>\n",
       "      <td>14.661128</td>\n",
       "    </tr>\n",
       "    <tr>\n",
       "      <th>456</th>\n",
       "      <td>0.648363</td>\n",
       "      <td>0.631023</td>\n",
       "    </tr>\n",
       "    <tr>\n",
       "      <th>2724</th>\n",
       "      <td>5.336573</td>\n",
       "      <td>5.304683</td>\n",
       "    </tr>\n",
       "    <tr>\n",
       "      <th>4815</th>\n",
       "      <td>15.485675</td>\n",
       "      <td>15.341385</td>\n",
       "    </tr>\n",
       "    <tr>\n",
       "      <th>2976</th>\n",
       "      <td>7.863446</td>\n",
       "      <td>7.843741</td>\n",
       "    </tr>\n",
       "    <tr>\n",
       "      <th>454</th>\n",
       "      <td>0.664492</td>\n",
       "      <td>0.646652</td>\n",
       "    </tr>\n",
       "    <tr>\n",
       "      <th>311</th>\n",
       "      <td>0.612880</td>\n",
       "      <td>0.614667</td>\n",
       "    </tr>\n",
       "    <tr>\n",
       "      <th>1573</th>\n",
       "      <td>1.506395</td>\n",
       "      <td>1.521073</td>\n",
       "    </tr>\n",
       "    <tr>\n",
       "      <th>5194</th>\n",
       "      <td>24.394354</td>\n",
       "      <td>24.438927</td>\n",
       "    </tr>\n",
       "    <tr>\n",
       "      <th>39</th>\n",
       "      <td>0.312891</td>\n",
       "      <td>0.310355</td>\n",
       "    </tr>\n",
       "  </tbody>\n",
       "</table>\n",
       "</div>"
      ],
      "text/plain": [
       "      Actual Price  Predicted Price\n",
       "4285      5.735011         5.812707\n",
       "3964      7.386562         7.376349\n",
       "4149      3.856371         3.832542\n",
       "7096     83.584145        83.321153\n",
       "4389      9.009210         8.952915\n",
       "5747     43.026691        42.893355\n",
       "4166      4.186680         4.122245\n",
       "4771     14.827783        14.838427\n",
       "1692      3.167624         3.146593\n",
       "6792     79.662941        80.029715\n",
       "7162     97.721092        97.503196\n",
       "991       1.374142         1.346433\n",
       "875       1.154795         1.150842\n",
       "3212     10.772243        10.867033\n",
       "4601     10.648690        10.693594\n",
       "3637     14.570808        14.661128\n",
       "456       0.648363         0.631023\n",
       "2724      5.336573         5.304683\n",
       "4815     15.485675        15.341385\n",
       "2976      7.863446         7.843741\n",
       "454       0.664492         0.646652\n",
       "311       0.612880         0.614667\n",
       "1573      1.506395         1.521073\n",
       "5194     24.394354        24.438927\n",
       "39        0.312891         0.310355"
      ]
     },
     "execution_count": 35,
     "metadata": {},
     "output_type": "execute_result"
    }
   ],
   "source": [
    "dfr.head(25)"
   ]
  },
  {
   "attachments": {},
   "cell_type": "markdown",
   "metadata": {},
   "source": [
    "Calculating RMS values ➡️\n"
   ]
  },
  {
   "cell_type": "code",
   "execution_count": 4,
   "metadata": {},
   "outputs": [],
   "source": [
    "from sklearn.metrics import confusion_matrix,accuracy_score\n",
    "from sklearn.metrics import *"
   ]
  },
  {
   "cell_type": "code",
   "execution_count": 36,
   "metadata": {},
   "outputs": [
    {
     "data": {
      "text/plain": [
       "0.9999405997280316"
      ]
     },
     "execution_count": 36,
     "metadata": {},
     "output_type": "execute_result"
    }
   ],
   "source": [
    "regressor.score(x_test,y_test)"
   ]
  },
  {
   "cell_type": "code",
   "execution_count": 3,
   "metadata": {},
   "outputs": [],
   "source": [
    "import math"
   ]
  },
  {
   "cell_type": "code",
   "execution_count": 51,
   "metadata": {},
   "outputs": [
    {
     "name": "stdout",
     "output_type": "stream",
     "text": [
      "Mean Absolute Error: 0.09827745312991602\n"
     ]
    }
   ],
   "source": [
    "print('Mean Absolute Error:',mean_absolute_error(y_test,predict))"
   ]
  },
  {
   "cell_type": "code",
   "execution_count": 56,
   "metadata": {},
   "outputs": [
    {
     "name": "stdout",
     "output_type": "stream",
     "text": [
      "Mean Squared Error: 0.043248430217224895\n"
     ]
    }
   ],
   "source": [
    "print('Mean Squared Error:',mean_squared_error(y_test,predict))"
   ]
  },
  {
   "cell_type": "code",
   "execution_count": 57,
   "metadata": {},
   "outputs": [
    {
     "name": "stdout",
     "output_type": "stream",
     "text": [
      "Root Mean Squared Error: 0.20796256926962817\n"
     ]
    }
   ],
   "source": [
    "print('Root Mean Squared Error:',math.sqrt(mean_squared_error(y_test,predict)))"
   ]
  },
  {
   "attachments": {},
   "cell_type": "markdown",
   "metadata": {},
   "source": [
    "Ploting graphs➡️"
   ]
  },
  {
   "cell_type": "code",
   "execution_count": 43,
   "metadata": {},
   "outputs": [],
   "source": [
    "graph = dfr.head(20)"
   ]
  },
  {
   "cell_type": "code",
   "execution_count": 44,
   "metadata": {},
   "outputs": [
    {
     "data": {
      "text/plain": [
       "<Axes: >"
      ]
     },
     "execution_count": 44,
     "metadata": {},
     "output_type": "execute_result"
    },
    {
     "data": {
      "image/png": "[encoded data removed]",
      "text/plain": [
       "<Figure size 640x480 with 1 Axes>"
      ]
     },
     "metadata": {},
     "output_type": "display_data"
    }
   ],
   "source": [
    "graph.plot(kind='bar')"
   ]
  },
  {
   "cell_type": "code",
   "execution_count": 50,
   "metadata": {},
   "outputs": [],
   "source": [
    "scatter=dfr.head(20)"
   ]
  },
  {
   "cell_type": "code",
   "execution_count": 52,
   "metadata": {},
   "outputs": [
    {
     "data": {
      "text/plain": [
       "<Axes: xlabel='Actual Price', ylabel='Predicted Price'>"
      ]
     },
     "execution_count": 52,
     "metadata": {},
     "output_type": "execute_result"
    },
    {
     "data": {
      "image/png": "[encoded data removed]",
      "text/plain": [
       "<Figure size 640x480 with 1 Axes>"
      ]
     },
     "metadata": {},
     "output_type": "display_data"
    }
   ],
   "source": [
    "scatter.plot(kind = 'scatter', x='Actual Price', y='Predicted Price')"
   ]
  },
  {
   "cell_type": "code",
   "execution_count": 53,
   "metadata": {},
   "outputs": [
    {
     "data": {
      "text/plain": [
       "<Axes: >"
      ]
     },
     "execution_count": 53,
     "metadata": {},
     "output_type": "execute_result"
    },
    {
     "data": {
      "image/png": "[encoded data removed]",
      "text/plain": [
       "<Figure size 640x480 with 1 Axes>"
      ]
     },
     "metadata": {},
     "output_type": "display_data"
    }
   ],
   "source": [
    "graph.plot(kind='box')"
   ]
  }
 ],
 "metadata": {
  "kernelspec": {
   "display_name": "Python 3",
   "language": "python",
   "name": "python3"
  },
  "language_info": {
   "codemirror_mode": {
    "name": "ipython",
    "version": 3
   },
   "file_extension": ".py",
   "mimetype": "text/x-python",
   "name": "python",
   "nbconvert_exporter": "python",
   "pygments_lexer": "ipython3",
   "version": "3.11.1"
  },
  "orig_nbformat": 4
 },
 "nbformat": 4,
 "nbformat_minor": 2
}
